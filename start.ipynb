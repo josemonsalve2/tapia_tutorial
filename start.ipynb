{
 "cells": [
  {
   "cell_type": "markdown",
   "metadata": {},
   "source": [
    "# TAPIA 2022 High Performance Computing - A General Overview\n",
    "\n",
    "This is the entry point for the hands on session led by DoE. In this session you will learn at your own phase, but don't worry, we are here to help you, ask how you are doing and solve all the questions you may have. HPC is an exciting field that has many areas of interest, here we are just showing you some of the tools we use every day to accelerate science and use the largest supercomputers in the world. \n",
    "\n",
    "## Select your own adventure:\n",
    "\n",
    "* [OpenMP](openmp_tutorial/Labs/labs.ipynb)\n",
    "* [MPI](mpi_tutorial/start.ipynb)\n",
    "* [CUDA and HIP](cuda_hip_tutoria/start.ipynb)"
   ]
  }
 ],
 "metadata": {
  "kernelspec": {
   "display_name": "Python 3.8.9 64-bit",
   "language": "python",
   "name": "python3"
  },
  "language_info": {
   "name": "python",
   "version": "3.8.9"
  },
  "orig_nbformat": 4,
  "vscode": {
   "interpreter": {
    "hash": "31f2aee4e71d21fbe5cf8b01ff0e069b9275f58929596ceb00d14d90e3e16cd6"
   }
  }
 },
 "nbformat": 4,
 "nbformat_minor": 2
}
