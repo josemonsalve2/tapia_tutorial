{
 "cells": [
  {
   "cell_type": "markdown",
   "metadata": {},
   "source": [
    "# CUDA AND HIP\n",
    "\n",
    "This tutorial will use a different server and instructions. Open a terminal in using the plus sign on the top of this jupyter notebook. And follow the instructions in the following link:\n",
    "\n",
    "[Tapia2022 Introduction to GPU Programming](https://github.com/olcf/tapia2022-intro-gpu-programming)\n",
    "\n"
   ]
  }
 ],
 "metadata": {
  "kernelspec": {
   "display_name": "Python 3.8.9 64-bit",
   "language": "python",
   "name": "python3"
  },
  "language_info": {
   "name": "python",
   "version": "3.8.9"
  },
  "orig_nbformat": 4,
  "vscode": {
   "interpreter": {
    "hash": "31f2aee4e71d21fbe5cf8b01ff0e069b9275f58929596ceb00d14d90e3e16cd6"
   }
  }
 },
 "nbformat": 4,
 "nbformat_minor": 2
}
