{
 "cells": [
  {
   "cell_type": "markdown",
   "metadata": {},
   "source": [
    "# MPI Tutorial\n",
    "\n",
    "MPI stands for Message Passing Interface. It is a standard specification for the developers and users of message passing libraries, often referred to as MPI libraries. MPI libraries allow processes to send messages among each other, even if they are executed on different compute nodes. Thus, it allows us to distribute a program across different computers. \n",
    "\n",
    "Let's begin by reviewing some of the concepts of MPI in [this slide deck](slides/Tapia2022IntroMPI.pdf). You will be able to use these slides as reference of the following examples.\n",
    " "
   ]
  },
  {
   "cell_type": "markdown",
   "metadata": {},
   "source": [
    "## Example 1 - Hello World\n",
    "\n",
    "Let's run our first MPI program. Go to [mpi_hello.c](c/mpi_hello.c) and read the code. \n",
    "\n",
    "How many times will each `printf` execute?"
   ]
  },
  {
   "cell_type": "code",
   "execution_count": null,
   "metadata": {},
   "outputs": [],
   "source": [
    "!cd c && make -f Makefile mpi_hello && srun mpirun --oversubscribe -N 10 ./mpi_hello"
   ]
  },
  {
   "cell_type": "markdown",
   "metadata": {},
   "source": [
    "## Example 2 - Dot Product\n",
    "\n",
    " MPI Example - Dot (scalar) product of two vectors  - C Version\n",
    " This program demonstrates a simple data decomposition. The master task\n",
    " first initializes two  arrays and then distributes an equal portion of each\n",
    " array to the other tasks. After the other tasks receive their portion\n",
    " of the arrays, they perform an dot product operation to each array element.\n",
    " They also maintain a sum for their portion of the array. The master task\n",
    " does likewise with its portion of the array. As each of the non-master\n",
    " tasks finish, they send their updated portion of the array to the master.\n",
    " An MPI collective communication call is used to collect the sums\n",
    " maintained by each task.\n",
    "\n",
    " Notice the use of MASTER to select the region of code to execute. Likewise, notice the use\n",
    "of `MPI_send` and `MPI_recv` in pairs to send and receive information between process.\n",
    "\n",
    "Go to [mpi_DotProd.c](c/mpi_DotProd.c) to take a look at the code. \n",
    " \n",
    "Play with the number of nodes and notice if there are changes in the execution time"
   ]
  },
  {
   "cell_type": "code",
   "execution_count": null,
   "metadata": {},
   "outputs": [],
   "source": [
    "!cd c && make -f Makefile mpi_DotProd && srun mpirun --oversubscribe -N 12 ./mpi_DotProd"
   ]
  },
  {
   "cell_type": "markdown",
   "metadata": {},
   "source": [
    "## Example 3 - Array\n",
    "\n",
    "This program demonstrates a simple data decomposition. The master task\n",
    "first initializes an array and then distributes an equal portion that\n",
    "array to the other tasks. After the other tasks receive their portion\n",
    "of the array, they perform an addition operation to each array element.\n",
    "They also maintain a sum for their portion of the array. The master task\n",
    "does likewise with its portion of the array. As each of the non-master\n",
    "tasks finish, they send their updated portion of the array to the master.\n",
    "An MPI collective communication call is used to collect the sums\n",
    "maintained by each task.  Finally, the master task displays selected\n",
    "parts of the final array and the global sum of all array elements.\n",
    "\n",
    "`NOTE: the number of MPI tasks must be evenly divided by 4.`\n",
    "\n",
    "Go to [mpi_array.c](c/mpi_array.c) to checkout the code.\n",
    "\n",
    "Notice the `MPI_reduce` with the `MPI_SUM` operation. This is a collective operation.\n",
    "Can you describe this operation? "
   ]
  },
  {
   "cell_type": "code",
   "execution_count": null,
   "metadata": {},
   "outputs": [],
   "source": [
    "!cd c && make -f Makefile mpi_array && srun mpirun --oversubscribe -N 12 ./mpi_array"
   ]
  },
  {
   "cell_type": "markdown",
   "metadata": {},
   "source": [
    "## Example 4 - Matrix Multiplication\n",
    "\n",
    " MPI Matrix Multiply - C Version\n",
    " In this code, the master task distributes a matrix multiply\n",
    " operation to numtasks-1 worker tasks.\n",
    "\n",
    "This example distributes across rows. Can you re-write this\n",
    "example to distribute columns? What are the complications? \n",
    "\n",
    "Go to [mpi_mm.c](c/mpi_mm.c) and checkout the code.\n",
    "\n",
    "Hint: Remember the reduction operation in the previous example.\n"
   ]
  },
  {
   "cell_type": "code",
   "execution_count": null,
   "metadata": {},
   "outputs": [],
   "source": [
    "!cd c && make -f Makefile mpi_mm && srun mpirun --oversubscribe -N 12 ./mpi_mm"
   ]
  },
  {
   "cell_type": "markdown",
   "metadata": {},
   "source": [
    "## Example 5 - Calculating PI"
   ]
  },
  {
   "cell_type": "markdown",
   "metadata": {},
   "source": [
    "MPI pi Calculation Example - C Version\n",
    "Point-to-Point communications example\n",
    "This program calculates pi using a \"dartboard\" algorithm.  See\n",
    "Fox et al.(1988) Solving Problems on Concurrent Processors, vol.1\n",
    "page 207.  All processes contribute to the calculation, with the\n",
    "master averaging the values for pi. This version uses low level\n",
    "sends and receives to collect results.\n",
    "\n",
    "Go to [mpi_pi_send.c](c/mpi_pi_send.c) to take a look at the code\n",
    "\n",
    "This example uses a real application to demonstrate the use of MPI."
   ]
  },
  {
   "cell_type": "code",
   "execution_count": null,
   "metadata": {},
   "outputs": [],
   "source": [
    "!cd c && make -f Makefile mpi_pi_send && srun mpirun --oversubscribe -N 12 ./mpi_pi_send"
   ]
  },
  {
   "cell_type": "markdown",
   "metadata": {},
   "source": [
    "## Final exercise\n",
    "\n",
    "Can you write a program that calculates the average of an array of elements in parallel?\n",
    "\n",
    "Hint: Remember the reduction operation"
   ]
  }
 ],
 "metadata": {
  "kernelspec": {
   "display_name": "Python 3.8.9 64-bit",
   "language": "python",
   "name": "python3"
  },
  "language_info": {
   "codemirror_mode": {
    "name": "ipython",
    "version": 3
   },
   "file_extension": ".py",
   "mimetype": "text/x-python",
   "name": "python",
   "nbconvert_exporter": "python",
   "pygments_lexer": "ipython3",
   "version": "3.8.9"
  },
  "orig_nbformat": 4,
  "vscode": {
   "interpreter": {
    "hash": "31f2aee4e71d21fbe5cf8b01ff0e069b9275f58929596ceb00d14d90e3e16cd6"
   }
  }
 },
 "nbformat": 4,
 "nbformat_minor": 2
}
